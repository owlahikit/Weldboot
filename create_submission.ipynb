{
 "cells": [
  {
   "cell_type": "code",
   "execution_count": null,
   "id": "31068f9b-f100-4ad0-81c5-d700de069e7f",
   "metadata": {},
   "outputs": [],
   "source": [
    "from ultralytics.models import YOLOv10\n",
    "model = YOLOv10('').to('cuda')"
   ]
  }
 ],
 "metadata": {
  "kernelspec": {
   "display_name": "DataSphere Kernel",
   "language": "python",
   "name": "python3"
  },
  "language_info": {
   "name": ""
  }
 },
 "nbformat": 4,
 "nbformat_minor": 5
}
